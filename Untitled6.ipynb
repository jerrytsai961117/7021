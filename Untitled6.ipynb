{
  "nbformat": 4,
  "nbformat_minor": 0,
  "metadata": {
    "colab": {
      "provenance": [],
      "authorship_tag": "ABX9TyMgj3XxpY8Aeq69e/tSXIQr",
      "include_colab_link": true
    },
    "kernelspec": {
      "name": "python3",
      "display_name": "Python 3"
    },
    "language_info": {
      "name": "python"
    }
  },
  "cells": [
    {
      "cell_type": "markdown",
      "metadata": {
        "id": "view-in-github",
        "colab_type": "text"
      },
      "source": [
        "<a href=\"https://colab.research.google.com/github/jerrytsai961117/7021/blob/main/Untitled6.ipynb\" target=\"_parent\"><img src=\"https://colab.research.google.com/assets/colab-badge.svg\" alt=\"Open In Colab\"/></a>"
      ]
    },
    {
      "cell_type": "code",
      "execution_count": null,
      "metadata": {
        "id": "cr3ylNbGpfWA"
      },
      "outputs": [],
      "source": [
        "# 安裝必要的庫\n",
        "!pip install -q -U google-generativeai\n",
        "\n",
        "import google.generativeai as genai\n",
        "import os\n",
        "\n",
        "# 設定您的 Google API 金鑰\n",
        "# 建議使用 Colab Secrets 來安全地儲存金鑰 (左側面板的「🔑」圖標)\n",
        "try:\n",
        "    from google.colab import userdata\n",
        "    genai.configure(api_key=userdata.get('GOOGLE_API_KEY'))\n",
        "    print(\"API 金鑰已從 Colab Secrets 加載。\")\n",
        "except Exception:\n",
        "    print(\"請確保您已在 Colab Secrets 中設定 GOOGLE_API_KEY。若無法從 Secrets 加載，請手動替換 'YOUR_API_KEY'。\")\n",
        "    # 如果沒有設定 Secrets，這裡可以手動設定，但請注意安全性\n",
        "    # genai.configure(api_key=\"YOUR_API_KEY\") # 替換為您的實際 API 金鑰\n",
        "\n",
        "# 初始化 GenerativeModel\n",
        "model = genai.GenerativeModel('gemini-pro')\n",
        "print(\"模型已初始化。\")"
      ]
    },
    {
      "cell_type": "code",
      "source": [
        "def generate_answer(prompt, temperature, max_tokens):\n",
        "    \"\"\"\n",
        "    根據給定的提示，使用指定的 temperature 和 max_output_tokens 生成答案。\n",
        "\n",
        "    Args:\n",
        "        prompt (str): 用於生成答案的提示。\n",
        "        temperature (float): 控制生成答案的隨機性，範圍通常在 0.0 到 1.0 之間。\n",
        "                             數值越低越確定，數值越高越隨機。\n",
        "        max_tokens (int): 生成答案的最大詞元數量。\n",
        "\n",
        "    Returns:\n",
        "        str: 模型生成的答案。\n",
        "    \"\"\"\n",
        "    generation_config = genai.GenerationConfig(\n",
        "        temperature=temperature,\n",
        "        max_output_tokens=max_tokens\n",
        "    )\n",
        "    try:\n",
        "        response = model.generate_content(prompt, generation_config=generation_config)\n",
        "        return response.text\n",
        "    except Exception as e:\n",
        "        return f\"生成答案時發生錯誤: {e}\"\n",
        "\n",
        "print(\"`generate_answer` 函數已定義。\")"
      ],
      "metadata": {
        "id": "Kh5Lx34BphCh"
      },
      "execution_count": null,
      "outputs": []
    }
  ]
}