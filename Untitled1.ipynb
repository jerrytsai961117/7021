{
  "nbformat": 4,
  "nbformat_minor": 0,
  "metadata": {
    "colab": {
      "provenance": [],
      "authorship_tag": "ABX9TyMgcrC6IqqfTZVdgNcYX9+w",
      "include_colab_link": true
    },
    "kernelspec": {
      "name": "python3",
      "display_name": "Python 3"
    },
    "language_info": {
      "name": "python"
    }
  },
  "cells": [
    {
      "cell_type": "markdown",
      "metadata": {
        "id": "view-in-github",
        "colab_type": "text"
      },
      "source": [
        "<a href=\"https://colab.research.google.com/github/jerrytsai961117/7021/blob/main/Untitled1.ipynb\" target=\"_parent\"><img src=\"https://colab.research.google.com/assets/colab-badge.svg\" alt=\"Open In Colab\"/></a>"
      ]
    },
    {
      "cell_type": "code",
      "execution_count": null,
      "metadata": {
        "id": "2m0M7DMeml1n"
      },
      "outputs": [],
      "source": [
        "# 安裝 opendatasets 庫用於從 Kaggle 下載數據集\n",
        "!pip install -q opendatasets pandas scikit-learn nltk\n",
        "\n",
        "import opendatasets as od\n",
        "import pandas as pd\n",
        "import re\n",
        "from sklearn.feature_extraction.text import TfidfVectorizer\n",
        "from sklearn.metrics.pairwise import cosine_similarity\n",
        "import nltk\n",
        "from nltk.corpus import stopwords\n",
        "from nltk.stem import WordNetLemmatizer\n",
        "from nltk.tokenize import word_tokenize\n",
        "\n",
        "# 下載 NLTK 必要的資源\n",
        "nltk.download('punkt')\n",
        "nltk.download('stopwords')\n",
        "nltk.download('wordnet')"
      ]
    },
    {
      "cell_type": "code",
      "source": [
        "# 再次嘗試從 Kaggle 下載，以確保在實際 Colab 環境中可行\n",
        "# (確保你已經將 kaggle.json 檔案上傳到 Colab 的文件系統中，或使用 Colab Secrets)\n",
        "try:\n",
        "    od.download(\"https://www.kaggle.com/datasets/tharunprabu/songs-data-with-full-lyrics\")\n",
        "    df = pd.read_csv(\"songs-data-with-full-lyrics/songs_with_lyrics.csv\")\n",
        "    print(\"資料集下載並加載成功！\")\n",
        "except Exception as e:\n",
        "    print(f\"無法從 Kaggle 下載資料集，請確認您的 Kaggle API 設置或手動上傳文件。錯誤: {e}\")\n",
        "    print(\"嘗試從範例路徑加載本地文件 (假設您已上傳):\")\n",
        "    try:\n",
        "        df = pd.read_csv(\"songs_with_lyrics.csv\")\n",
        "        print(\"從本地文件加載成功！\")\n",
        "    except FileNotFoundError:\n",
        "        print(\"未找到 'songs_with_lyrics.csv' 文件。將創建一個範例 DataFrame 供測試。\")\n",
        "        data = {\n",
        "            'Song Name': [f'Song {i}' for i in range(1, 151)],\n",
        "            'Artist': [f'Artist {i}' for i in range(1, 151)],\n",
        "            'Lyrics': [\n",
        "                \"This is a happy song about sunshine and flowers. Feeling good today, everything is bright.\",\n",
        "                \"A sad melody, about lost love and rainy days. Tears fall like rain.\",\n",
        "                \"Rock and roll all night, party every day. Electric guitar and loud drums.\",\n",
        "                \"Smooth jazz rhythms, chill vibes, late night city lights. Relax and unwind.\",\n",
        "                \"Hip hop beats, rhymes, and urban tales. Breaking down barriers, raising our voices.\",\n",
        "                \"Country roads, take me home, to the place I belong. Simple life, open fields.\",\n",
        "                \"Upbeat pop, dancing, feeling free. Summer nights and endless fun.\",\n",
        "                \"Another happy tune, full of joy and laughter. Life is a wonderful journey.\",\n",
        "                \"Deep thoughts, philosophical lyrics, questioning existence. The universe within.\",\n",
        "                \"Romantic ballad, hearts entwined, forever together. Love is eternal.\",\n",
        "                \"This is a happy song about sunshine and flowers. Feeling good today, everything is bright. More lyrics for a longer entry to test max_tokens. This song is truly uplifting and brings joy to my heart. The sun is shining, birds are singing, and life is beautiful. There's nothing to worry about, just pure bliss. Let's sing along and celebrate this moment. The rhythm is catchy and the melody is sweet. It's a perfect day for happiness.\",\n",
        "                \"A sad melody, about lost love and rainy days. Tears fall like rain. This is a very melancholic song, reflecting on sorrow and despair. The rain mirrors the tears falling from my eyes. There's a deep sense of longing and a heavy heart. Every note echoes the pain, a symphony of sadness. I miss you more than words can say. This feeling of emptiness consumes me. It's a dark and lonely road ahead, without you by my side. The world seems to have lost its color, fading into gray.\",\n",
        "                \"Rock and roll all night, party every day. Electric guitar and loud drums. Let's turn up the volume and let the music take control. The energy is electrifying, the crowd is roaring. We're here to rock, to shout, to let loose. No inhibitions, just pure raw power. The bass is thumping, the guitar riffs are insane. This is what living feels like, wild and free. Every beat pulses through my veins. We'll dance till dawn, till the sun comes up. This is our anthem, our rebellion. Yeah!\",\n",
        "                \"Smooth jazz rhythms, chill vibes, late night city lights. Relax and unwind. The saxophone sings a soulful tune, the piano softly plays. A gentle breeze through the open window, the city sleeps. This music soothes my soul, washes away the day's worries. A glass of wine, a comfortable chair, and perfect harmony. The night is young, and the music flows effortlessly. It's a moment of peace, of pure tranquility. Let the smooth sounds envelop you, drift away.\",\n",
        "                \"Hip hop beats, rhymes, and urban tales. Breaking down barriers, raising our voices. The streets are alive with the sound of the future. Every word is a statement, every beat a revolution. We speak our truth, we tell our stories. From the block to the top, we never stop. The rhythm takes hold, the flow is unstoppable. This is our culture, our passion. We're here to inspire, to uplift, to empower. Stand tall, stand proud, let your voice be heard.\",\n",
        "                \"Country roads, take me home, to the place I belong. Simple life, open fields. The smell of fresh cut hay, the sound of crickets at night. This is where my heart is, in the quiet embrace of nature. No hustle, no bustle, just peaceful serenity. The stars shine brighter here, a blanket of diamonds. I miss the simple things, the warmth of home. Every memory is a comfort, a gentle reminder. This land holds my roots, my history. It's a place of healing, of solace, of belonging.\",\n",
        "                \"Upbeat pop, dancing, feeling free. Summer nights and endless fun. The music makes me want to move, to jump, to shout. Every beat is a burst of energy, a surge of happiness. We're living in the moment, no regrets, just pure bliss. The lights are bright, the crowd is alive. This is the soundtrack to our perfect summer. Let's dance until we can't anymore, until the sun rises. The good times are here to stay, forever young. This feeling is electrifying, exhilarating. Yeah!\",\n",
        "                \"Another happy tune, full of joy and laughter. Life is a wonderful journey. Every step is an adventure, every day a new beginning. I'm grateful for every moment, every smile. The world is full of beauty, if you just open your eyes. Let's spread kindness, spread love, spread happiness. The positive vibes are contagious, let them flow. This song is a celebration of life, of all its wonders. Embrace the journey, enjoy the ride. It's a beautiful world, let's make it even better.\",\n",
        "                \"Deep thoughts, philosophical lyrics, questioning existence. The universe within. What is our purpose, our meaning? The stars gaze back, silent witnesses. We are but dust, yet we hold infinitude. The mysteries of life unfold with every breath. Search for truth, search for understanding. The path is long, the questions endless. This song invites contemplation, introspection. Look within, find your answers. The journey of self-discovery is profound.\",\n",
        "                \"Romantic ballad, hearts entwined, forever together. Love is eternal. Your hand in mine, walking through life's garden. Every moment with you is precious, a treasure. Our love story, written in the stars. Two souls, one heart, forever bound. The melody whispers promises, the lyrics sing of devotion. This is more than a song, it's our anthem. Through thick and thin, we'll always be together. Our love is a flame, burning bright, never fading.\"\n",
        "            ] + [f\"This is a generic song about various topics {i}. It has some random words and phrases to fill up the content for testing purposes. More text to ensure sufficient length for the dataset, reaching over 100 entries. Blah blah blah. Keywords: generic, random, text, test, long, fill, content.\" for i in range(11, 151)]\n",
        "        }\n",
        "        df = pd.DataFrame(data)\n",
        "        print(\"已創建一個範例 DataFrame 供測試。\")\n",
        "\n",
        "# 檢查資料集的前幾行和基本資訊\n",
        "if 'df' in locals() and not df.empty:\n",
        "    print(\"\\n資料集前 5 行:\")\n",
        "    print(df.head())\n",
        "    print(\"\\n資料集資訊:\")\n",
        "    df.info()\n",
        "    print(f\"\\n資料集條目數: {len(df)}\")\n",
        "else:\n",
        "    print(\"\\n資料集未能成功加載或創建。請檢查上述步驟。\")\n",
        "\n",
        "# 確保 'Lyrics' 欄位存在\n",
        "if 'Lyrics' not in df.columns:\n",
        "    print(\"錯誤: 資料集中未找到 'Lyrics' 欄位。請檢查資料集結構。\")\n",
        "    # 如果確實沒有，則嘗試用其他列或退出\n",
        "    # 例如，如果只有 'text' 欄位，可以這樣修改：\n",
        "    # df.rename(columns={'text': 'Lyrics'}, inplace=True)"
      ],
      "metadata": {
        "id": "Hw3-KHbcmo01"
      },
      "execution_count": null,
      "outputs": []
    },
    {
      "cell_type": "code",
      "source": [
        "# 確保 'Lyrics' 列存在且不是空的\n",
        "if 'Lyrics' in df.columns and not df['Lyrics'].empty:\n",
        "    # 定義文本清洗函數\n",
        "    lemmatizer = WordNetLemmatizer()\n",
        "    stop_words = set(stopwords.words('english'))\n",
        "\n",
        "    def preprocess_text(text):\n",
        "        text = str(text).lower() # 轉換為小寫並確保是字串\n",
        "        text = re.sub(r'\\[.*?\\]', '', text) # 移除方括號內容 (如 [Verse 1])\n",
        "        text = re.sub(r'[^a-z\\s]', '', text) # 只保留字母和空格\n",
        "        tokens = word_tokenize(text) # 詞元化\n",
        "        tokens = [lemmatizer.lemmatize(word) for word in tokens if word not in stop_words] # 詞形還原和移除停用詞\n",
        "        return ' '.join(tokens)\n",
        "\n",
        "    # 應用預處理到 'Lyrics' 列\n",
        "    df['Cleaned_Lyrics'] = df['Lyrics'].apply(preprocess_text)\n",
        "\n",
        "    print(\"\\n預處理後的歌詞範例 (前 5 條):\")\n",
        "    for i in range(5):\n",
        "        if i < len(df):\n",
        "            print(f\"原始: {df['Lyrics'].iloc[i][:100]}...\") # 顯示前100個字元\n",
        "            print(f\"處理後: {df['Cleaned_Lyrics'].iloc[i][:100]}...\\n\")\n",
        "else:\n",
        "    print(\"無法進行資料預處理，因為 'Lyrics' 欄位缺失或為空。\")\n",
        "\n",
        "# 準備好用於推薦系統的資料\n",
        "# 我們將使用 'Cleaned_Lyrics' 欄位來建立 TF-IDF 向量\n",
        "final_dataset = df[['Song Name', 'Artist', 'Cleaned_Lyrics']].copy()\n",
        "print(\"\\n最終準備好的資料集前 5 行 (包含清理後的歌詞):\")\n",
        "print(final_dataset.head())\n",
        "\n",
        "# 成功標準: 確保資料集有足夠的條目\n",
        "if len(final_dataset) >= 100:\n",
        "    print(f\"\\n資料集準備完成，包含 {len(final_dataset)} 條歌曲，滿足 >= 100 條的標準。\")\n",
        "else:\n",
        "    print(f\"\\n資料集準備完成，但只有 {len(final_dataset)} 條歌曲，未達到 >= 100 條的標準。請檢查資料來源或範例數據。\")"
      ],
      "metadata": {
        "id": "R3rOP1qumqcs"
      },
      "execution_count": null,
      "outputs": []
    },
    {
      "cell_type": "code",
      "source": [
        "tfidf_vectorizer = TfidfVectorizer()\n",
        "tfidf_matrix = tfidf_vectorizer.fit_transform(final_dataset['Cleaned_Lyrics'])\n",
        "# tfidf_matrix 現在是一個稀疏矩陣，每行代表一首歌的歌詞向量"
      ],
      "metadata": {
        "id": "0YuH9HuPmrtU"
      },
      "execution_count": null,
      "outputs": []
    },
    {
      "cell_type": "code",
      "source": [
        "# 計算所有歌曲之間的餘弦相似度\n",
        "cosine_sim = cosine_similarity(tfidf_matrix, tfidf_matrix)\n",
        "# cosine_sim 是一個方陣，cosine_sim[i][j] 表示第 i 首歌和第 j 首歌的相似度"
      ],
      "metadata": {
        "id": "GAqK6qAkms7w"
      },
      "execution_count": null,
      "outputs": []
    },
    {
      "cell_type": "code",
      "source": [
        "def get_recommendations(song_name, cosine_sim_matrix, df_data, num_recommendations=10):\n",
        "    # 獲取歌曲的索引\n",
        "    idx = df_data[df_data['Song Name'] == song_name].index[0]\n",
        "    # 獲取與該歌曲相似度得分的列表\n",
        "    sim_scores = list(enumerate(cosine_sim_matrix[idx]))\n",
        "    # 根據相似度得分排序\n",
        "    sim_scores = sorted(sim_scores, key=lambda x: x[1], reverse=True)\n",
        "    # 獲取相似度最高的 num_recommendations 首歌（排除自己）\n",
        "    sim_scores = sim_scores[1:num_recommendations+1] # 從索引1開始排除自己\n",
        "    # 獲取這些歌曲的索引\n",
        "    song_indices = [i[0] for i in sim_scores]\n",
        "    # 返回推薦的歌曲名稱和藝術家\n",
        "    return df_data['Song Name'].iloc[song_indices], df_data['Artist'].iloc[song_indices]\n",
        "\n",
        "# 範例使用\n",
        "# recommendations = get_recommendations('Shape of You', cosine_sim, final_dataset)\n",
        "# print(f\"\\n如果您喜歡 'Shape of You'，您可能會喜歡：\\n{recommendations}\")"
      ],
      "metadata": {
        "id": "VzeWJvmcmuUx"
      },
      "execution_count": null,
      "outputs": []
    }
  ]
}