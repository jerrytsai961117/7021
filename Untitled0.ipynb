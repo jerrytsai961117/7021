{
  "nbformat": 4,
  "nbformat_minor": 0,
  "metadata": {
    "colab": {
      "provenance": [],
      "authorship_tag": "ABX9TyOpnb+vJXDm7osOOyqIcDAE",
      "include_colab_link": true
    },
    "kernelspec": {
      "name": "python3",
      "display_name": "Python 3"
    },
    "language_info": {
      "name": "python"
    }
  },
  "cells": [
    {
      "cell_type": "markdown",
      "metadata": {
        "id": "view-in-github",
        "colab_type": "text"
      },
      "source": [
        "<a href=\"https://colab.research.google.com/github/jerrytsai961117/7021/blob/main/Untitled0.ipynb\" target=\"_parent\"><img src=\"https://colab.research.google.com/assets/colab-badge.svg\" alt=\"Open In Colab\"/></a>"
      ]
    },
    {
      "cell_type": "code",
      "source": [
        "!pip install -q -U google-generativeai"
      ],
      "metadata": {
        "id": "GzK5WzM7jeN-"
      },
      "execution_count": null,
      "outputs": []
    },
    {
      "cell_type": "code",
      "source": [
        "import google.generativeai as genai\n",
        "import os\n",
        "\n",
        "# 將 YOUR_API_KEY 替換成你的實際 API 金鑰\n",
        "# genai.configure(api_key=\"YOUR_API_KEY\")\n",
        "\n",
        "# 或者如果你已經設定為環境變數:\n",
        "# genai.configure(api_key=os.environ[\"GOOGLE_API_KEY\"])\n",
        "\n",
        "# 這裡我們將使用一個範例金鑰，但在實際應用中請務必替換為你的金鑰\n",
        "# 為了避免在公開筆記本中暴露金鑰，建議從 Colab 的秘密 (Secrets) 中獲取\n",
        "try:\n",
        "    from google.colab import userdata\n",
        "    genai.configure(api_key=userdata.get('GOOGLE_API_KEY'))\n",
        "except Exception:\n",
        "    print(\"請確保您已在 Colab Secrets 中設定 GOOGLE_API_KEY，或直接在程式碼中替換 YOUR_API_KEY。\")\n",
        "    # 如果沒有設定 Secrets，這裡可以手動設定，但請注意安全性\n",
        "    # genai.configure(api_key=\"YOUR_API_KEY\")\n",
        "\n",
        "\n",
        "# 初始化 GenerativeModel\n",
        "model = genai.GenerativeModel('gemini-pro')"
      ],
      "metadata": {
        "id": "cbc3U2Zkjgoe"
      },
      "execution_count": null,
      "outputs": []
    },
    {
      "cell_type": "code",
      "source": [
        "def generate_answer(prompt, temperature=0.7, max_tokens=150):\n",
        "    \"\"\"\n",
        "    根據給定的提示，使用指定的 temperature 和 max_output_tokens 生成答案。\n",
        "\n",
        "    Args:\n",
        "        prompt (str): 用於生成答案的提示。\n",
        "        temperature (float): 控制生成答案的隨機性，範圍通常在 0.0 到 1.0 之間。\n",
        "                             數值越低越確定，數值越高越隨機。\n",
        "        max_tokens (int): 生成答案的最大詞元數量。\n",
        "\n",
        "    Returns:\n",
        "        str: 模型生成的答案。\n",
        "    \"\"\"\n",
        "    # 創建 GenerationConfig 物件，將 temperature 和 max_output_tokens 傳遞給模型\n",
        "    generation_config = genai.GenerationConfig(\n",
        "        temperature=temperature,\n",
        "        max_output_tokens=max_tokens\n",
        "    )\n",
        "\n",
        "    # 調用 model.generate_content 並包含新的配置\n",
        "    response = model.generate_content(prompt, generation_config=generation_config)\n",
        "\n",
        "    return response.text"
      ],
      "metadata": {
        "id": "RWMPEq4kjiLd"
      },
      "execution_count": null,
      "outputs": []
    },
    {
      "cell_type": "code",
      "source": [
        "print(\"--- 範例 1: 使用預設參數 ---\")\n",
        "prompt_1 = \"請解釋量子糾纏的基礎概念。\"\n",
        "answer_1 = generate_answer(prompt_1)\n",
        "print(f\"提示: {prompt_1}\")\n",
        "print(f\"答案:\\n{answer_1}\\n\")\n",
        "print(f\"答案長度 (詞元估計): {len(answer_1.split())}\\n\")"
      ],
      "metadata": {
        "id": "4I9PfpGOjohn"
      },
      "execution_count": null,
      "outputs": []
    },
    {
      "cell_type": "code",
      "source": [
        "print(\"--- 範例 2: 較低的 Temperature 和較短的輸出 ---\")\n",
        "prompt_2 = \"簡述地球繞太陽運行的主要原因。\"\n",
        "answer_2 = generate_answer(prompt_2, temperature=0.1, max_tokens=50)\n",
        "print(f\"提示: {prompt_2}\")\n",
        "print(f\"答案:\\n{answer_2}\\n\")\n",
        "print(f\"答案長度 (詞元估計): {len(answer_2.split())}\\n\")"
      ],
      "metadata": {
        "id": "nNF5wFLmjqJS"
      },
      "execution_count": null,
      "outputs": []
    },
    {
      "cell_type": "code",
      "source": [
        "print(\"--- 範例 3: 較高的 Temperature 和較長的輸出 ---\")\n",
        "prompt_3 = \"為一個關於探索未知星球的科幻故事寫一個開頭段落，要求有想像力。\"\n",
        "answer_3 = generate_answer(prompt_3, temperature=0.9, max_tokens=200)\n",
        "print(f\"提示: {prompt_3}\")\n",
        "print(f\"答案:\\n{answer_3}\\n\")\n",
        "print(f\"答案長度 (詞元估計): {len(answer_3.split())}\\n\")"
      ],
      "metadata": {
        "id": "wLjyMRfEjrt3"
      },
      "execution_count": null,
      "outputs": []
    }
  ]
}